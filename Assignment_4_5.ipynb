{
 "cells": [
  {
   "cell_type": "code",
   "execution_count": 36,
   "id": "49caf208",
   "metadata": {},
   "outputs": [],
   "source": [
    "import numpy as np\n",
    "import pandas as pd\n",
    "import matplotlib.pyplot as plt\n",
    "import seaborn as sns"
   ]
  },
  {
   "cell_type": "code",
   "execution_count": 37,
   "id": "f5ab2cc5",
   "metadata": {},
   "outputs": [],
   "source": [
    "types = pd.read_csv(r'C:\\Users\\aitpa\\Desktop\\IRDM week 8\\datasets\\types.csv', sep=';')\n",
    "codes = pd.read_csv(r'C:\\Users\\aitpa\\Desktop\\IRDM week 8\\datasets\\codes.csv',sep =';')\n",
    "transactions = pd.read_csv(r'C:\\Users\\aitpa\\Desktop\\IRDM week 8\\datasets\\transactions.csv', sep =';')\n",
    "train_set = pd.read_csv(r'C:\\Users\\aitpa\\Desktop\\IRDM week 8\\datasets\\train_set.csv',sep=';')\n",
    "test_set = pd.read_csv(r'C:\\Users\\aitpa\\Desktop\\IRDM week 8\\datasets\\test_set.csv', sep=';')"
   ]
  },
  {
   "cell_type": "markdown",
   "id": "a5755f01",
   "metadata": {},
   "source": [
    "# Dataset exploring"
   ]
  },
  {
   "cell_type": "markdown",
   "id": "b46f2ca2",
   "metadata": {},
   "source": [
    "## Types"
   ]
  },
  {
   "cell_type": "markdown",
   "id": "dd7fe325",
   "metadata": {},
   "source": [
    "### Descriptive Analysis"
   ]
  },
  {
   "cell_type": "code",
   "execution_count": 38,
   "id": "ca2dd789",
   "metadata": {},
   "outputs": [
    {
     "data": {
      "text/html": [
       "<div>\n",
       "<style scoped>\n",
       "    .dataframe tbody tr th:only-of-type {\n",
       "        vertical-align: middle;\n",
       "    }\n",
       "\n",
       "    .dataframe tbody tr th {\n",
       "        vertical-align: top;\n",
       "    }\n",
       "\n",
       "    .dataframe thead th {\n",
       "        text-align: right;\n",
       "    }\n",
       "</style>\n",
       "<table border=\"1\" class=\"dataframe\">\n",
       "  <thead>\n",
       "    <tr style=\"text-align: right;\">\n",
       "      <th></th>\n",
       "      <th>type</th>\n",
       "    </tr>\n",
       "  </thead>\n",
       "  <tbody>\n",
       "    <tr>\n",
       "      <th>count</th>\n",
       "      <td>155.000000</td>\n",
       "    </tr>\n",
       "    <tr>\n",
       "      <th>mean</th>\n",
       "      <td>10819.045161</td>\n",
       "    </tr>\n",
       "    <tr>\n",
       "      <th>std</th>\n",
       "      <td>80000.258847</td>\n",
       "    </tr>\n",
       "    <tr>\n",
       "      <th>min</th>\n",
       "      <td>1000.000000</td>\n",
       "    </tr>\n",
       "    <tr>\n",
       "      <th>25%</th>\n",
       "      <td>2385.500000</td>\n",
       "    </tr>\n",
       "    <tr>\n",
       "      <th>50%</th>\n",
       "      <td>4040.000000</td>\n",
       "    </tr>\n",
       "    <tr>\n",
       "      <th>75%</th>\n",
       "      <td>7027.500000</td>\n",
       "    </tr>\n",
       "    <tr>\n",
       "      <th>max</th>\n",
       "      <td>999999.000000</td>\n",
       "    </tr>\n",
       "  </tbody>\n",
       "</table>\n",
       "</div>"
      ],
      "text/plain": [
       "                type\n",
       "count     155.000000\n",
       "mean    10819.045161\n",
       "std     80000.258847\n",
       "min      1000.000000\n",
       "25%      2385.500000\n",
       "50%      4040.000000\n",
       "75%      7027.500000\n",
       "max    999999.000000"
      ]
     },
     "execution_count": 38,
     "metadata": {},
     "output_type": "execute_result"
    }
   ],
   "source": [
    "types.describe()"
   ]
  },
  {
   "cell_type": "markdown",
   "id": "dbc38fb5",
   "metadata": {},
   "source": [
    "### Explanatory Data Analysis"
   ]
  },
  {
   "cell_type": "code",
   "execution_count": null,
   "id": "decf16df",
   "metadata": {},
   "outputs": [],
   "source": []
  }
 ],
 "metadata": {
  "kernelspec": {
   "display_name": "Python 3",
   "language": "python",
   "name": "python3"
  },
  "language_info": {
   "codemirror_mode": {
    "name": "ipython",
    "version": 3
   },
   "file_extension": ".py",
   "mimetype": "text/x-python",
   "name": "python",
   "nbconvert_exporter": "python",
   "pygments_lexer": "ipython3",
   "version": "3.8.8"
  }
 },
 "nbformat": 4,
 "nbformat_minor": 5
}
